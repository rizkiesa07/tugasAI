{
  "nbformat": 4,
  "nbformat_minor": 0,
  "metadata": {
    "colab": {
      "provenance": []
    },
    "kernelspec": {
      "name": "python3",
      "display_name": "Python 3"
    },
    "language_info": {
      "name": "python"
    }
  },
  "cells": [
    {
      "cell_type": "markdown",
      "source": [
        "**Breadth First Search (BFS)**\n",
        "\n",
        "---\n",
        "\n",
        "\n",
        "\n"
      ],
      "metadata": {
        "id": "1Z7LTRhTLAol"
      }
    },
    {
      "cell_type": "code",
      "execution_count": 1,
      "metadata": {
        "colab": {
          "base_uri": "https://localhost:8080/"
        },
        "id": "JUlsB1DIK8Az",
        "outputId": "0d34af64-6fde-40c7-f592-ba2403d55889"
      },
      "outputs": [
        {
          "output_type": "stream",
          "name": "stdout",
          "text": [
            "BFS: ['A', 'B', 'C', 'D', 'E', 'F', 'G']\n"
          ]
        }
      ],
      "source": [
        "def bfs(graph, source):\n",
        "    visited = set()\n",
        "    bfs_traversal = list()\n",
        "    queue = list()\n",
        "\n",
        "  \n",
        "    queue.append(source)\n",
        "    visited.add(source)\n",
        "\n",
        "\n",
        "    while queue:\n",
        "        current_node = queue.pop(0)\n",
        "        bfs_traversal.append(current_node)\n",
        "\n",
        "        for neighbour_node in graph[current_node]:\n",
        "            if neighbour_node not in visited:\n",
        "                visited.add(neighbour_node)\n",
        "                queue.append(neighbour_node)\n",
        "\n",
        "    return bfs_traversal\n",
        "\n",
        "def main():\n",
        "  graph = {\n",
        "      'A':['B', 'C'],\n",
        "      'B':['A', 'D', 'E'],\n",
        "      'C':['A', 'F', 'G'],\n",
        "      'D':['B'],\n",
        "      'E':['B'],\n",
        "      'F':['C'],\n",
        "      'G':['C']\n",
        "    }\n",
        "    \n",
        "  bfs_traversal = bfs(graph, 'A')\n",
        "  print(f\"BFS: {bfs_traversal}\")\n",
        "\n",
        "\n",
        "if __name__ == '__main__':\n",
        "    main()"
      ]
    },
    {
      "cell_type": "markdown",
      "source": [
        "**Depth First Search (DFS)**\n",
        "\n",
        "---\n",
        "\n"
      ],
      "metadata": {
        "id": "hke3zekjLvJ1"
      }
    },
    {
      "cell_type": "code",
      "source": [
        "def dfs(graph, source, visited, dfs_traversal):\n",
        "     if source not in visited:\n",
        "        dfs_traversal.append(source)\n",
        "        visited.add(source)\n",
        "\n",
        "        for neighbor_node in graph[source]:\n",
        "          dfs(graph, neighbor_node, visited, dfs_traversal)\n",
        "\n",
        "     return dfs_traversal\n",
        "\n",
        "def main():\n",
        "    visited = set()\n",
        "    dfs_traversal = list()\n",
        "    graph = {\n",
        "         'A': ['B', 'C'],\n",
        "         'B': ['D', 'E'],\n",
        "         'C': ['F', 'G'],\n",
        "         'D': [],\n",
        "         'E': [],\n",
        "         'F': [],\n",
        "         'G': []\n",
        "     }\n",
        "    print(f\"DFS: {dfs(graph, 'A', visited, dfs_traversal)}\")\n",
        "\n",
        "if __name__==\"__main__\":\n",
        "  main()\n",
        "  "
      ],
      "metadata": {
        "colab": {
          "base_uri": "https://localhost:8080/"
        },
        "id": "UtjWQ4HGL6bj",
        "outputId": "a158fb5c-e185-44e5-f5b0-8751ee8540f5"
      },
      "execution_count": 2,
      "outputs": [
        {
          "output_type": "stream",
          "name": "stdout",
          "text": [
            "DFS: ['A', 'B', 'D', 'E', 'C', 'F', 'G']\n"
          ]
        }
      ]
    },
    {
      "cell_type": "markdown",
      "source": [
        "**Uniform Cost Search (UCS)**\n",
        "\n",
        "---\n",
        "\n",
        "\n"
      ],
      "metadata": {
        "id": "blFwA_gJMVmQ"
      }
    },
    {
      "cell_type": "code",
      "source": [
        "def uniform_cost_search(goal, start):\n",
        "    global graph, cost\n",
        "    answer = []\n",
        "    queue = []\n",
        "  \n",
        "    for i in range(len(goal)):\n",
        "        answer.append(10**8)\n",
        "    \n",
        "    queue.append([0, start])\n",
        "    visited = {}\n",
        "    count = 0\n",
        "    while (len(queue) > 0):\n",
        "        queue = sorted(queue)\n",
        "        p = queue[-1]\n",
        "        del queue[-1]\n",
        "        p[0] *= -1\n",
        "        if (p[1] in goal):\n",
        "            index = goal.index(p[1])\n",
        "            if (answer[index] == 10**8):\n",
        "                count += 1\n",
        "            if (answer[index] > p[0]):\n",
        "                answer[index] = p[0]\n",
        "            del queue[-1]\n",
        "            queue = sorted(queue)\n",
        "            if (count == len(goal)):\n",
        "                return answer\n",
        "        if (p[1] not in visited):\n",
        "            for i in range(len(graph[p[1]])):\n",
        "                queue.append([p[0]+cost[(p[1],graph[p[1]][i])]*-1,graph[p[1]][i]])\n",
        "        visited[p[1]]=1\n",
        "    return answer\n",
        "if __name__ == '__main__':\n",
        "    graph, cost = [[] for i in range(8)], {}\n",
        "    graph[0].append(1)\n",
        "    graph[0].append(3)\n",
        "    graph[3].append(1)\n",
        "    graph[3].append(6)\n",
        "    graph[3].append(4)\n",
        "    graph[1].append(6)\n",
        "    graph[4].append(2)\n",
        "    graph[4].append(5)\n",
        "    graph[2].append(1)\n",
        "    graph[5].append(2)\n",
        "    graph[5].append(6)\n",
        "    graph[6].append(4)\n",
        "    cost[(0, 1)] = 2\n",
        "    cost[(0, 3)] = 5\n",
        "    cost[(1, 6)] = 1\n",
        "    cost[(3, 1)] = 5\n",
        "    cost[(3, 6)] = 6\n",
        "    cost[(3, 4)] = 2\n",
        "    cost[(2, 1)] = 4\n",
        "    cost[(4, 2)] = 4\n",
        "    cost[(4, 5)] = 3\n",
        "    cost[(5, 2)] = 6\n",
        "    cost[(5, 6)] = 3\n",
        "    cost[(6, 4)] = 7\n",
        "    goal = []\n",
        "    goal.append(6)\n",
        "    answer = uniform_cost_search(goal, 5)\n",
        "    print(\"Minimum cost from 0 to 6 is =\", answer[0])\n"
      ],
      "metadata": {
        "colab": {
          "base_uri": "https://localhost:8080/"
        },
        "id": "jj625IscMb3i",
        "outputId": "408f3ee9-d706-4485-fc43-67077d62b786"
      },
      "execution_count": 3,
      "outputs": [
        {
          "output_type": "stream",
          "name": "stdout",
          "text": [
            "Minimum cost from 0 to 6 is = 3\n"
          ]
        }
      ]
    },
    {
      "cell_type": "markdown",
      "source": [
        "**Iterative Deepening Depth First Search**\n",
        "\n",
        "---\n",
        "\n"
      ],
      "metadata": {
        "id": "B2mE5kr-N-zs"
      }
    },
    {
      "cell_type": "code",
      "source": [
        "from collections import defaultdict\n",
        "\n",
        "class Graph:\n",
        "    def __init__(self, vertices):\n",
        "        self.v = vertices\n",
        "        self.graph = defaultdict(list)\n",
        "    def addEdge(self, u, v):\n",
        "        self.graph[u].append(v)\n",
        "    def DLS(self, src, target, maxDepth):\n",
        "        if src == target:\n",
        "            return True\n",
        "        if maxDepth <= 0:\n",
        "            return False\n",
        "        for i in self.graph[src]:\n",
        "            if self.DLS(i, target, maxDepth-1):\n",
        "                return True\n",
        "        return False# \n",
        "    def IDDFS(self, src, target, maxDepth):\n",
        "        for i in range(maxDepth):\n",
        "            if self.DLS(src, target, i):\n",
        "                return True\n",
        "        return False\n",
        "g = Graph(7);\n",
        "g.addEdge(0, 1)\n",
        "g.addEdge(0, 2)\n",
        "g.addEdge(0, 4)\n",
        "g.addEdge(1, 3)\n",
        "g.addEdge(1, 5)\n",
        "g.addEdge(2, 6)\n",
        "target = 6\n",
        "maxDepth = 3\n",
        "src = 0\n",
        "\n",
        "if g.IDDFS(src, target, maxDepth) == True:\n",
        "    print(\"Target is reachable from source within max depth\")\n",
        "else:\n",
        "    print(\"Target is NOT reachable from source within max depth\")\n"
      ],
      "metadata": {
        "colab": {
          "base_uri": "https://localhost:8080/"
        },
        "id": "JjKWarkIOEzE",
        "outputId": "a23fbae8-44e0-4cc0-aa68-a88d77561bc1"
      },
      "execution_count": 4,
      "outputs": [
        {
          "output_type": "stream",
          "name": "stdout",
          "text": [
            "Target is reachable from source within max depth\n"
          ]
        }
      ]
    },
    {
      "cell_type": "markdown",
      "source": [
        "**Bidirectional Search**\n",
        "\n",
        "---\n",
        "\n"
      ],
      "metadata": {
        "id": "cBXZA9QIPMbT"
      }
    },
    {
      "cell_type": "code",
      "source": [
        "class AdjacencyNode:\n",
        "    def __init__(self, vertex):\n",
        "        self.vertex = vertex\n",
        "        self.next = None\n",
        "        \n",
        "class BidirectionalSearch:\n",
        "    def __init__(self, vertices):\n",
        "        self.vertices = vertices\n",
        "        self.graph = [None] * self.vertices\n",
        "        self.src_queue = list()\n",
        "        self.dest_queue = list()\n",
        "        self.src_visited = [False] * self.vertices\n",
        "        self.dest_visited = [False] * self.vertices\n",
        "        self.src_parent = [None] * self.vertices\n",
        "        self.dest_parent = [None] * self.vertices\n",
        "\n",
        "    def add_edge(self, src, dest):\n",
        "        node = AdjacencyNode(dest)\n",
        "        node.next = self.graph[src]\n",
        "        self.graph[src] = node\n",
        "        node = AdjacencyNode(src)\n",
        "        node.next = self.graph[dest]\n",
        "        self.graph[dest] = node\n",
        "\n",
        "    def bfs(self, direction=\"forward\"):\n",
        "        if direction == \"forward\":\n",
        "            current = self.src_queue.pop(0)\n",
        "            connected_node = self.graph[current]\n",
        "\n",
        "            while connected_node:\n",
        "                vertex = connected_node.vertex\n",
        "\n",
        "                if not self.src_visited[vertex]:\n",
        "                    self.src_queue.append(vertex)\n",
        "                    self.src_visited[vertex] = True\n",
        "                    self.src_parent[vertex] = current\n",
        "\n",
        "                connected_node = connected_node.next\n",
        "        else:\n",
        "            current = self.dest_queue.pop(0)\n",
        "            connected_node = self.graph[current]\n",
        "\n",
        "            while connected_node:\n",
        "                vertex = connected_node.vertex\n",
        "\n",
        "                if not self.dest_visited[vertex]:\n",
        "                    self.dest_queue.append(vertex)\n",
        "                    self.dest_visited[vertex] = True\n",
        "                    self.dest_parent[vertex] = current\n",
        "\n",
        "                connected_node = connected_node.next \n",
        "    def is_intersecting(self):\n",
        "        for i in range(self.vertices):\n",
        "            if self.src_visited[i] and self.dest_visited[i]:\n",
        "                return i\n",
        "        return i\n",
        "    def print_path(self, intersecting_node, src, dest):\n",
        "        path = list()\n",
        "        path.append(intersecting_node)\n",
        "        i = intersecting_node\n",
        "        while i != src:\n",
        "            path.append(self.src_parent[i])\n",
        "            i = self.src_parent[i]\n",
        "\n",
        "        path = path[::-1]\n",
        "        i = intersecting_node\n",
        "        while i != dest:\n",
        "            path.append(self.dest_parent[i])\n",
        "            i = self.dest_parent[i]\n",
        "        path.append(dest)\n",
        "        path = list(map(str, path))\n",
        "        print(' '.join(path))\n",
        "    def bidirectional_search(self, src, dest):\n",
        "        self.src_queue.append(src)\n",
        "        self.src_visited[src] = True\n",
        "        self.src_parent[src] = -1\n",
        "        self.dest_queue.append(dest)\n",
        "        self.dest_visited[dest] = True\n",
        "        self.dest_parent[dest] = -1\n",
        "        \n",
        "        while self.src_queue and self.dest_queue:\n",
        "            self.bfs(direction = 'forward')\n",
        "            self.bfs(direction = 'backward')\n",
        "            intersecting_node = self.is_intersecting()\n",
        "            \n",
        "            if intersecting_node != 1:\n",
        "                print(f\"path exist beetwen {src} and {dest}\")\n",
        "                print(f\"intersection at : {intersecting_node}\")\n",
        "                self.print_path(intersecting_node,src,dest)\n",
        "                exit(0)\n",
        "                return -1\n",
        "    \n",
        "if __name__ == '__main__':\n",
        "    n=15\n",
        "    src=0\n",
        "    dest=6\n",
        "\n",
        "    graph = BidirectionalSearch(n)\n",
        "    graph.add_edge(0, 4)\n",
        "    graph.add_edge(1, 4)\n",
        "    graph.add_edge(2, 5)\n",
        "    graph.add_edge(3, 5)\n",
        "    graph.add_edge(4, 6)\n",
        "    graph.add_edge(5, 6)\n",
        "    graph.add_edge(6, 7)\n",
        "    graph.add_edge(7, 5)\n",
        "    graph.add_edge(8, 9)\n",
        "    graph.add_edge(8, 10)\n",
        "    graph.add_edge(9, 11)\n",
        "    graph.add_edge(9, 12)\n",
        "    graph.add_edge(10, 13)\n",
        "    graph.add_edge(10, 14)\n",
        "\n",
        "out = graph.bidirectional_search(src, dest)\n",
        "\n",
        "if out == 1:\n",
        "    print(f\"Path does not exist between {src} and {dest}\")\n",
        "\n"
      ],
      "metadata": {
        "colab": {
          "base_uri": "https://localhost:8080/"
        },
        "id": "alfkEemqPTkD",
        "outputId": "4ab1684a-7f9a-44f2-c3a9-b09e39982b6b"
      },
      "execution_count": 5,
      "outputs": [
        {
          "output_type": "stream",
          "name": "stdout",
          "text": [
            "path exist beetwen 0 and 6\n",
            "intersection at : 4\n",
            "0 4 6 6\n"
          ]
        }
      ]
    }
  ]
}